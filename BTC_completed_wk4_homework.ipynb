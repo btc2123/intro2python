{
 "cells": [
  {
   "cell_type": "markdown",
   "metadata": {},
   "source": [
    "# Week 4 Homework\n",
    "\n",
    "Go through the content in this notebook, and complete the problems."
   ]
  },
  {
   "cell_type": "markdown",
   "metadata": {},
   "source": [
    "# Errors\n",
    "\n",
    "By now, we have seen several pieces of code that have failed to run. In that case, Python does not only raise an error, but also specifies what exactly went wrong."
   ]
  },
  {
   "cell_type": "code",
   "execution_count": 1,
   "metadata": {},
   "outputs": [
    {
     "ename": "_IncompleteInputError",
     "evalue": "incomplete input (495188828.py, line 3)",
     "output_type": "error",
     "traceback": [
      "  \u001b[36mCell\u001b[39m\u001b[36m \u001b[39m\u001b[32mIn[1]\u001b[39m\u001b[32m, line 3\u001b[39m\n\u001b[31m    \u001b[39m\u001b[31mprint(a+3\u001b[39m\n             ^\n\u001b[31m_IncompleteInputError\u001b[39m\u001b[31m:\u001b[39m incomplete input\n"
     ]
    }
   ],
   "source": [
    "# A syntax error indicates that your code is not properly formatted:\n",
    "a = 2\n",
    "print(a+3"
   ]
  },
  {
   "cell_type": "code",
   "execution_count": 2,
   "metadata": {},
   "outputs": [
    {
     "ename": "TypeError",
     "evalue": "can only concatenate str (not \"int\") to str",
     "output_type": "error",
     "traceback": [
      "\u001b[31m---------------------------------------------------------------------------\u001b[39m",
      "\u001b[31mTypeError\u001b[39m                                 Traceback (most recent call last)",
      "\u001b[36mCell\u001b[39m\u001b[36m \u001b[39m\u001b[32mIn[2]\u001b[39m\u001b[32m, line 3\u001b[39m\n\u001b[32m      1\u001b[39m \u001b[38;5;66;03m# A type error indicates that a function received an input of the wrong type\u001b[39;00m\n\u001b[32m      2\u001b[39m a = \u001b[33m'\u001b[39m\u001b[33m2\u001b[39m\u001b[33m'\u001b[39m\n\u001b[32m----> \u001b[39m\u001b[32m3\u001b[39m \u001b[38;5;28mprint\u001b[39m(a+\u001b[32m3\u001b[39m)\n",
      "\u001b[31mTypeError\u001b[39m: can only concatenate str (not \"int\") to str"
     ]
    }
   ],
   "source": [
    "# A type error indicates that a function received an input of the wrong type\n",
    "a = '2'\n",
    "print(a+3)"
   ]
  },
  {
   "cell_type": "code",
   "execution_count": 3,
   "metadata": {},
   "outputs": [
    {
     "ename": "IndexError",
     "evalue": "list index out of range",
     "output_type": "error",
     "traceback": [
      "\u001b[31m---------------------------------------------------------------------------\u001b[39m",
      "\u001b[31mIndexError\u001b[39m                                Traceback (most recent call last)",
      "\u001b[36mCell\u001b[39m\u001b[36m \u001b[39m\u001b[32mIn[3]\u001b[39m\u001b[32m, line 3\u001b[39m\n\u001b[32m      1\u001b[39m \u001b[38;5;66;03m# An index error suggests that it is not possible to index an object in the attempted way.\u001b[39;00m\n\u001b[32m      2\u001b[39m a = [\u001b[32m2\u001b[39m, \u001b[32m3\u001b[39m]\n\u001b[32m----> \u001b[39m\u001b[32m3\u001b[39m a[\u001b[32m3\u001b[39m]\n",
      "\u001b[31mIndexError\u001b[39m: list index out of range"
     ]
    }
   ],
   "source": [
    "# An index error suggests that it is not possible to index an object in the attempted way.\n",
    "a = [2, 3]\n",
    "a[3]"
   ]
  },
  {
   "cell_type": "markdown",
   "metadata": {},
   "source": [
    "You can return errors yourself using the command `raise`:"
   ]
  },
  {
   "cell_type": "code",
   "execution_count": 4,
   "metadata": {},
   "outputs": [
    {
     "ename": "ValueError",
     "evalue": "a should not be three",
     "output_type": "error",
     "traceback": [
      "\u001b[31m---------------------------------------------------------------------------\u001b[39m",
      "\u001b[31mValueError\u001b[39m                                Traceback (most recent call last)",
      "\u001b[36mCell\u001b[39m\u001b[36m \u001b[39m\u001b[32mIn[4]\u001b[39m\u001b[32m, line 3\u001b[39m\n\u001b[32m      1\u001b[39m a = \u001b[32m3\u001b[39m\n\u001b[32m      2\u001b[39m \u001b[38;5;28;01mif\u001b[39;00m a == \u001b[32m3\u001b[39m:\n\u001b[32m----> \u001b[39m\u001b[32m3\u001b[39m   \u001b[38;5;28;01mraise\u001b[39;00m \u001b[38;5;167;01mValueError\u001b[39;00m(\u001b[33m'\u001b[39m\u001b[33ma should not be three\u001b[39m\u001b[33m'\u001b[39m)\n",
      "\u001b[31mValueError\u001b[39m: a should not be three"
     ]
    }
   ],
   "source": [
    "a = 3\n",
    "if a == 3:\n",
    "  raise ValueError('a should not be three')"
   ]
  },
  {
   "cell_type": "markdown",
   "metadata": {},
   "source": [
    "## More info on functions: Args and kwargs\n",
    "\n",
    "You can also use a piece of code that allows you to provide arbitrary arguments (with or without keywords) to your function. If you use `*args` as one of the arguments of your function, this will take any unnamed argument and put all of them in a tuple:"
   ]
  },
  {
   "cell_type": "code",
   "execution_count": 5,
   "metadata": {},
   "outputs": [
    {
     "name": "stdout",
     "output_type": "stream",
     "text": [
      "1\n",
      "(2, 3)\n"
     ]
    }
   ],
   "source": [
    "def f(a, *args):\n",
    "  print(a)\n",
    "  print(args)\n",
    "f(1, 2, 3)"
   ]
  },
  {
   "cell_type": "code",
   "execution_count": 6,
   "metadata": {},
   "outputs": [
    {
     "name": "stdout",
     "output_type": "stream",
     "text": [
      "1\n",
      "(2, 3, 4)\n"
     ]
    }
   ],
   "source": [
    "f(1, 2, 3, 4)"
   ]
  },
  {
   "cell_type": "code",
   "execution_count": 7,
   "metadata": {},
   "outputs": [
    {
     "name": "stdout",
     "output_type": "stream",
     "text": [
      "1\n",
      "(2, 3)\n",
      "1\n",
      "(2, 3, 4)\n"
     ]
    }
   ],
   "source": [
    "# The name args is not important\n",
    "def f(a, *variable):\n",
    "  print(a)\n",
    "  print(variable)\n",
    "f(1, 2, 3)\n",
    "f(1, 2, 3, 4)"
   ]
  },
  {
   "cell_type": "markdown",
   "metadata": {},
   "source": [
    "Similarly, if you put two asterisks in front of your variable (e.g. ``**kwargs``), it will assign all names variables to kwargs (in a dictionary format)."
   ]
  },
  {
   "cell_type": "code",
   "execution_count": 8,
   "metadata": {},
   "outputs": [
    {
     "name": "stdout",
     "output_type": "stream",
     "text": [
      "1\n",
      "{'b': 2, 'c': 3}\n"
     ]
    }
   ],
   "source": [
    "def f(a, **kwargs):\n",
    "  print(a)\n",
    "  print(kwargs)\n",
    "f(a=1, b=2, c=3)"
   ]
  },
  {
   "cell_type": "markdown",
   "metadata": {},
   "source": [
    "Again, we're mostly explaining this so you are familiar with it later on, when it will become extremely useful."
   ]
  },
  {
   "cell_type": "markdown",
   "metadata": {},
   "source": [
    "## Readability - Type Hinting \n",
    "Type hints indicate the types of variables, function parameters, and return values. They can help other developers understand what types of data your function expects and what it will return. Though it's not necessary to type hint, it helps improves the code readability and helps other people troubleshoot what's going on if they run into an issue."
   ]
  },
  {
   "cell_type": "code",
   "execution_count": 9,
   "metadata": {},
   "outputs": [],
   "source": [
    "def surface_area_of_cube(edge_length: float) -> str:\n",
    "    return f\"The surface area of the cube is {6 * edge_length ** 2}.\""
   ]
  },
  {
   "cell_type": "markdown",
   "metadata": {},
   "source": [
    "The function surface_area_of_cube takes an argument expected to be an instance of float, as indicated by the type hint edge_length: float. The function is expected to return an instance of str, as indicated by the -> str hint.\n",
    "\n",
    "# Readability - Docstrings\n",
    "\n",
    "Docstrings are great for understanding the functionality of the larger part of the code, i.e., the general purpose of any class or function. You can write whatever you want in it, though people generally prefer to follow certain style guide conventions, e.g. [PEP-257](https://peps.python.org/pep-0257/), or [numpydoc](https://numpydoc.readthedocs.io/en/latest/format.html)"
   ]
  },
  {
   "cell_type": "code",
   "execution_count": 10,
   "metadata": {},
   "outputs": [],
   "source": [
    "def surface_area_of_cube(edge_length: float) -> str:\n",
    "    \"\"\"\n",
    "    Hahaha I am writing whatever I want! this is going to output the surface of a cuuubbeeeeee :) \n",
    "    \"\"\"\n",
    "    return f\"The surface area of the cube is {6 * edge_length ** 2}.\""
   ]
  },
  {
   "cell_type": "code",
   "execution_count": 11,
   "metadata": {},
   "outputs": [
    {
     "name": "stdout",
     "output_type": "stream",
     "text": [
      "\u001b[31mSignature:\u001b[39m surface_area_of_cube(edge_length: float) -> str\n",
      "\u001b[31mDocstring:\u001b[39m Hahaha I am writing whatever I want! this is going to output the surface of a cuuubbeeeeee :) \n",
      "\u001b[31mFile:\u001b[39m      /var/folders/fp/x1zmj6vj19z35_71xgcszn280000gn/T/ipykernel_61892/2187800515.py\n",
      "\u001b[31mType:\u001b[39m      function"
     ]
    }
   ],
   "source": [
    "surface_area_of_cube?"
   ]
  },
  {
   "cell_type": "code",
   "execution_count": 12,
   "metadata": {},
   "outputs": [],
   "source": [
    "# Sharon likes to use numpydoc convention.\n",
    "\n",
    "def surface_area_of_cube(edge_length: float) -> str:\n",
    "    \"\"\"\n",
    "    A unit agnostic function that calculates the surface area of a cube based on it's edge length. \n",
    "\n",
    "    Parameters\n",
    "    ----------\n",
    "    edge_length : float\n",
    "        The length of an edge for a given cube\n",
    "\n",
    "    Returns\n",
    "    -------\n",
    "    string\n",
    "        Human readable message detailing the surface area of the cube\n",
    "\n",
    "    \"\"\"\n",
    "    return f\"The surface area of the cube is {6 * edge_length ** 2}.\""
   ]
  },
  {
   "cell_type": "code",
   "execution_count": 13,
   "metadata": {},
   "outputs": [
    {
     "name": "stdout",
     "output_type": "stream",
     "text": [
      "\u001b[31mSignature:\u001b[39m surface_area_of_cube(edge_length: float) -> str\n",
      "\u001b[31mDocstring:\u001b[39m\n",
      "A unit agnostic function that calculates the surface area of a cube based on it's edge length. \n",
      "\n",
      "Parameters\n",
      "----------\n",
      "edge_length : float\n",
      "    The length of an edge for a given cube\n",
      "\n",
      "Returns\n",
      "-------\n",
      "string\n",
      "    Human readable message detailing the surface area of the cube\n",
      "\u001b[31mFile:\u001b[39m      /var/folders/fp/x1zmj6vj19z35_71xgcszn280000gn/T/ipykernel_61892/89576434.py\n",
      "\u001b[31mType:\u001b[39m      function"
     ]
    }
   ],
   "source": [
    "surface_area_of_cube?"
   ]
  },
  {
   "cell_type": "markdown",
   "metadata": {},
   "source": [
    "## Problem 1 (list comprehension):\n",
    "1. Create a list using **list comprehension** where any values between 2 and 10 inclusive that are divisible by 3 are added to the list. Assign the list to a variable called `divisible_3s`.\n",
    "2. Using a for loop, print the index and the value at that index for every element in `divisible_3s`.\n",
    "3. Create a dictionary using list comprehension where the key is $x^3$ and the value is $x^2$ for x's between 1 and 4 inclusive. Assign the dictionary to variable `cube_square`.\n",
    "4. Print the key and value for every key, value pair in `cube_square`"
   ]
  },
  {
   "cell_type": "code",
   "execution_count": 14,
   "metadata": {},
   "outputs": [
    {
     "name": "stdout",
     "output_type": "stream",
     "text": [
      "[3, 6, 9]\n"
     ]
    }
   ],
   "source": [
    "#1.1\n",
    "divisible_3s = [i for i in range(2, 11) if i % 3 == 0]\n",
    "print(divisible_3s)"
   ]
  },
  {
   "cell_type": "code",
   "execution_count": 19,
   "metadata": {},
   "outputs": [
    {
     "name": "stdout",
     "output_type": "stream",
     "text": [
      "0 3\n",
      "1 6\n",
      "2 9\n"
     ]
    }
   ],
   "source": [
    "#1.2\n",
    "for index, value in enumerate(divisible_3s, start=0):\n",
    "    print(index, value)\n"
   ]
  },
  {
   "cell_type": "code",
   "execution_count": 23,
   "metadata": {},
   "outputs": [
    {
     "name": "stdout",
     "output_type": "stream",
     "text": [
      "{1: 1, 8: 4, 27: 9, 64: 16}\n"
     ]
    }
   ],
   "source": [
    "#1.3\n",
    "# dictionary comprehension syntax = {key_expression : value_expression for item in iterable}\n",
    "#range goes from 1-5 to let it be inclusive of 4 \n",
    "#key is x cubed while value is x squared \n",
    "\n",
    "cube_square = {x**3 : x**2 for x in range(1, 5)}\n",
    "print(cube_square)"
   ]
  },
  {
   "cell_type": "code",
   "execution_count": 26,
   "metadata": {},
   "outputs": [
    {
     "name": "stdout",
     "output_type": "stream",
     "text": [
      "1 1\n",
      "8 4\n",
      "27 9\n",
      "64 16\n"
     ]
    }
   ],
   "source": [
    "#1.4\n",
    "for key, value in cube_square.items():\n",
    "    print(key, value)"
   ]
  },
  {
   "cell_type": "markdown",
   "metadata": {},
   "source": [
    "## Problem 2 (error raises, default arguments)\n",
    "1. Write a function `integer_add` that takes two arguments and adds them together. If either of the arguments are not integers, raise an error. What is the correct error for this issue? \n",
    "2. Set default arguments of the two arguments to 1 for this function."
   ]
  },
  {
   "cell_type": "code",
   "execution_count": 30,
   "metadata": {},
   "outputs": [],
   "source": [
    "#2.1\n",
    "#how to define a function is listed below \n",
    "#def function_name(parameters): \n",
    "     #code that runs when function is called\n",
    "    # return something \n",
    "#isinstance(object, tyep) checks whether an object is of a certain type and returns either true or false\n",
    "\n",
    "def integer_add(a,b):\n",
    "    if not (isinstance(a, int) and isinstance(b, int)):\n",
    "        raise TypeError(\"Both inputs must be integers.\")\n",
    "    return a + b"
   ]
  },
  {
   "cell_type": "code",
   "execution_count": 39,
   "metadata": {},
   "outputs": [
    {
     "name": "stdout",
     "output_type": "stream",
     "text": [
      "2\n"
     ]
    }
   ],
   "source": [
    "#2.2\n",
    "def integer_add(a, b):\n",
    "    if not (isinstance(a, int) and isinstance(b, int)):\n",
    "        raise TypeError(\"Both inputs must be integers.\")\n",
    "    return a + b\n",
    "print(integer_add(1, 1))\n"
   ]
  },
  {
   "cell_type": "markdown",
   "metadata": {},
   "source": [
    "## Problem 3 (try/except, break/pass/continue):\n",
    "1. Use try/except to write a FUNCTION that takes integers a and b and prints a/b. If it gets an error (for example b is 0), it should instead print \"Cannot divide by zero\". Try your code with a few different choices of a and b to make sure it works correctly. \n",
    "- **Additionally, write a docstring for that funtion.**\n",
    "\n",
    "2. Modify your function so that it takes lists a and b, where numbers are paired by their index, and prints out a/b for each pair. If you run into an error, you must use pass, continue or break to print \"Cannot divide by zero\", and then continue printing the rest of the pairs. \n",
    "- **Use type hinting to indicate that a and b take in a list.**"
   ]
  },
  {
   "cell_type": "code",
   "execution_count": 53,
   "metadata": {},
   "outputs": [
    {
     "name": "stdout",
     "output_type": "stream",
     "text": [
      "1.5\n",
      "Cannot divide by zero\n",
      "Cannot divide by zero\n",
      "5.0\n"
     ]
    }
   ],
   "source": [
    "#3.1\n",
    "#how to use try/except:\n",
    "#try:\n",
    "    #code that might cause an error \n",
    "    #result = \n",
    "#except FunctionError: \n",
    "    #code that runs if the error happens\n",
    "    #print(\"error\")\n",
    "\n",
    "def safe_divide(a:int, b:int) -> float:\n",
    "\n",
    "    \"\"\"\n",
    "    Divides two integers and prints the quotient.\n",
    "\n",
    "    Parameters:\n",
    "        a (int) : the numerator\n",
    "        b (int) : the denominator \n",
    "\n",
    "    Prints:\n",
    "        the result of a/b if b is not zero,\n",
    "        otherwise prints \"cannot divide by zero\"\n",
    "    \"\"\"\n",
    "\n",
    "    try:\n",
    "        print(a/b)\n",
    "    except ZeroDivisionError:\n",
    "        print(\"Cannot divide by zero\")\n",
    "\n",
    "safe_divide(3,2)\n",
    "safe_divide(1,0)\n",
    "safe_divide(10,0)\n",
    "safe_divide(100,20)"
   ]
  },
  {
   "cell_type": "code",
   "execution_count": null,
   "metadata": {},
   "outputs": [],
   "source": [
    "#3.2 \n",
    "def safe_divide_lists(a: list[int], b: list[int]) -> float:\n",
    "\n",
    "    \"\"\"\n",
    "    Divides the elements of two integer lists paired by their index number and prints out a/b for each pair\n",
    "\n",
    "    Parameters:\n",
    "        a (list[int]) : the numerators \n",
    "        b (list[in]) : the denominators \n",
    "\n",
    "    Prints:\n",
    "        For each index value i, prints out a[i] / b[i] if a valid float,\n",
    "        otherwise prints \"Cannot divide by zero\" and continues through the list\n",
    "    \"\"\"\n",
    "\n",
    "#the function zip takes two or more sequences and pairs them together element by element \n",
    "#zip(a,b) produces a sequence of tuples (a[i], b[i]), if the lists are different lengths, it stops at the shortest list\n",
    "\n",
    "# if a = [10, 20, 30] and b = [1, 2, 3] then \n",
    "    # for x, y in zip(a, b):\n",
    "        #print(x,y)\n",
    "\n",
    "        # the output will be : 10 1\n",
    "        #                      20 2\n",
    "        #                      30 3\n",
    "\n",
    "#zip works well for this problem since it pairs the numerator and denominator in each index so they can be safely divided in one loop"
   ]
  },
  {
   "cell_type": "code",
   "execution_count": 76,
   "metadata": {},
   "outputs": [
    {
     "name": "stdout",
     "output_type": "stream",
     "text": [
      "5.0\n",
      "5.0\n",
      "Cannot divide by zero\n",
      "8.0\n",
      "Cannot divide by zero\n"
     ]
    }
   ],
   "source": [
    "#using for loops for problem 3.2\n",
    "\n",
    "def safe_divide_lists(a: list[int], b: list[int]) -> float:\n",
    "\n",
    "    for i in range(len(a)): \n",
    "        x = a[i]\n",
    "        y = b[i]\n",
    "        try:\n",
    "            print(x/y)\n",
    "        except ZeroDivisionError:\n",
    "            print(\"Cannot divide by zero\")\n",
    "\n",
    "# ---- Test the function ----\n",
    "safe_divide_lists([10, 20, 30, 40, 50], [2, 4, 0, 5, 0])"
   ]
  },
  {
   "cell_type": "code",
   "execution_count": 74,
   "metadata": {},
   "outputs": [
    {
     "name": "stdout",
     "output_type": "stream",
     "text": [
      "5.0\n",
      "5.0\n",
      "Cannot divide by zero\n",
      "8.0\n",
      "Cannot divide by zero\n"
     ]
    }
   ],
   "source": [
    "#using zip for problem 3.2\n",
    "\n",
    "def safe_divide_lists(a: list[int], b: list[int]) -> float:\n",
    "    \n",
    "    for x, y in zip(a, b):\n",
    "        try:\n",
    "            print(x/y)\n",
    "        except ZeroDivisionError:\n",
    "            print(\"Cannot divide by zero\")\n",
    "\n",
    "# ---- to make it easier, define the lists once then call the function with the list ----\n",
    "a = [10, 20, 30, 40, 50]\n",
    "b = [2, 4, 0, 5, 0]\n",
    "\n",
    "safe_divide_lists(a, b)"
   ]
  },
  {
   "cell_type": "markdown",
   "metadata": {},
   "source": [
    "# Problem 4\n",
    "\n",
    "Given an array of ints, return True if the array contains a 2 next to a 2 somewhere.\n",
    "\n",
    "\n",
    "has22([1, 2, 2]) → True\n",
    "has22([1, 2, 1, 2]) → False\n",
    "has22([2, 1, 2]) → False\n",
    "\n",
    "**Write a docstring and use type hinting for this function as well.**"
   ]
  },
  {
   "cell_type": "code",
   "execution_count": 80,
   "metadata": {},
   "outputs": [
    {
     "name": "stdout",
     "output_type": "stream",
     "text": [
      "True\n",
      "False\n",
      "False\n"
     ]
    }
   ],
   "source": [
    "#4\n",
    "#function has22(nums) takes a list of integers \n",
    "#function has22(nums) returns true if a 2 immediately follows another 2 in the list (ie: [2,2])\n",
    "#otherwise it returns false \n",
    "\n",
    "# --- check each index i and compare it with i+1 to see whether it equals 2 ---\n",
    "\n",
    "def has22(nums: list[int]) -> bool:\n",
    "\n",
    "    \"\"\"\n",
    "    Given a list of integers, returns True if a 2 immediately follows another 2 in the list.\n",
    "    \n",
    "    Parameters:\n",
    "        nums (list[int]) : a list of integers to check\n",
    "\n",
    "    Returns:\n",
    "        bool: True if there is a 2 followed by another 2, False otherwise\n",
    "    \"\"\"\n",
    "    for i in range(len(nums) - 1): #accounts for the fact that i+1 will be out of range if i is the last index\n",
    "        if nums[i] == 2 and nums[i + 1] == 2:\n",
    "            return True\n",
    "    return False  \n",
    "\n",
    "print(has22([1, 2, 2]))\n",
    "print(has22([1, 2, 1, 2]))\n",
    "print(has22([2, 1, 2]))"
   ]
  },
  {
   "cell_type": "markdown",
   "metadata": {},
   "source": [
    "## Problem 5\n",
    "\n",
    "You and your friends are really into the newest season of some reality TV show where everyone speed-dates each other, and you are trying to think of couple names (ship names) for several pairs. A common heuristic for coming up with couple names is combining the first syllable of one person's name with the LAST syllable of the other person's name. So, for example, the couple name for `Sharon` and `Janet` would be `Shanet`, combining the first syllable `Sha` from Sharon and the last syllable `net` from `Janet`.\n",
    " \n",
    "\n",
    "Rules for syllable parsing:\n",
    "If a vowel (letters aeiou and **sometimes** y) is followed by a consonant, that vowel marks the end of the syllable. (e.g. in `Sharon`, `a` is followed by `r`, and thus, the first syllable is `Sha`). EXCEPT, if `sh` follows a vowel, then `sh` marks the end of that syllable. e.g. the first syllable of `Ashley` is `Ash`, not `As`\n",
    " \n",
    "\n",
    "However, what if you have a couple with the names `Aaron` and `Sharon`? Combining the first syllable and last syllable from those two names would yield `Aaron`, and switching the order (where we take the first syllable from Sharon, and the last syllable from Aaron) would yield `Sharon`. These are BORING couple names, because the output is the same as one of the names of the people in the couple. In these cases, you would want to combine the first syllable from `Aaron` with the first syllable from `Sharon`, thus yielding `AaSha`, a much better couple name. [If it makes it easier, I will accept `Ronron` as an answer too.]\n",
    " \n",
    "\n",
    "Write a function called `name_generator` that sets variable `couple_name` to a suitable couple name for a couple with names assigned to variables `person1` and `person2`.\n",
    "\n",
    "\n",
    "I will try AT LEAST 7 test cases when grading, but I will give you 4 of them. Pass at least 3 to get full credit for the problem. Extra credit will be assigned based on the number of test cases passed. Note that this is CASE SENSITIVE.\n",
    "1. `Mobi` and `Betsy` \n",
    "2. `Ellie` and `Kollin`\n",
    "3. `Sam` and `Justin`\n",
    "4. `Shelly` and `Yonathan`"
   ]
  },
  {
   "cell_type": "code",
   "execution_count": 94,
   "metadata": {},
   "outputs": [],
   "source": [
    "#This will be the code inclusive of all notes I needed to understand the problem\n",
    "#Below this will be just the code (without notes) to make it easier to read \n",
    "\n",
    "    ##### Put your work below this line.\n",
    "\n",
    "#Rule 1: first syllable rule \n",
    "# a vowel followed by a consonant ends the first syllable (a e i o u y) of the first name in the pair\n",
    "# except if vowel is followed by sh, then sh ends the syllable \n",
    "\n",
    "#Rule 2: last syllable rule \n",
    "# same as rule 1 but taken from the end of the second name in the pair \n",
    "\n",
    "#Rule 3: boring name rule \n",
    "# if combining first(person1) and last(person2) produces one of the input names \n",
    "# or first(person2) and last(person1) produces one of the input names,\n",
    "# then combine the first syllables first(person1) and first(person2)\n",
    "\n",
    "#THIS IS CASE SENSITIVE SO NEEDS TO BE ABLE TO IDENTIFY BOTH LOWER CASE AND UPPER CASE VOWELS\n",
    "\n",
    "\"\"\"\n",
    "    Helper functions to identify the first and last syllable of the names\n",
    "\"\"\"\n",
    "\n",
    "def identify_first_syllable(name: str) -> str:\n",
    "    vowels = \"aeiouyAEIOUY\"\n",
    "\n",
    "    for i in range(len(name) - 1):\n",
    "\n",
    "        # this is the sh rule to end the syllable if vowel is followed by sh\n",
    "        # i'm using .lower() so that i can check the input regardless of case\n",
    "        #but will return the name without modifying the case\n",
    "        if name[i].lower() in vowels and name[i+1:i+3].lower() == \"sh\":\n",
    "            return name[:i+3]\n",
    "        \n",
    "        # this is the vowel followed by consonant rule to end the syllable\n",
    "        if name[i].lower() in vowels and name[i+1].lower() not in vowels:\n",
    "            return name[:i+2]\n",
    "        \n",
    "    return name #if no syllable is found, returns the whole name \n",
    "\n",
    "def identify_last_syllable(name: str) -> str:\n",
    "    vowels = \"aeiouyAEIOUY\"\n",
    "\n",
    "    for i in range(len(name) - 1, 0, -1): \n",
    "\n",
    "        # the range functions is: range(start, stop, step)\n",
    "       \n",
    "        # the start of the range is the length of the name - 1 (so we start at the last index)\n",
    "        # the stop point of the range is just before 0 (since range is exclusive of the stop point) \n",
    "        # the step count is -1 so we count backwards through the string one index point at a time\n",
    "        \n",
    "        # this loops checks through the string backwards from the last character to the character at index 1\n",
    "        \n",
    "        # we stop at index 0 (exclusive) because our range function is len(name) - 1\n",
    "        # if i=0, then i-1 would equal -1, which would be the last character of the string \n",
    "\n",
    "        # example: for the name = \"Sharon\", len(name) = 6 \n",
    "        # range(len(name) -1, 0, -1) = range(5, 0, -1) = [5, 4, 3, 2, 1]\n",
    "        # S h a r o n (name)\n",
    "        # 0 1 2 3 4 5 (indices)\n",
    "        # i runs backwards from 5 to 1 \n",
    "\n",
    "        if name[i-2:i].lower() == \"sh\" and name[i].lower() in vowels:\n",
    "            return name[i-2:]\n",
    "        \n",
    "        # name[i-2:i] grabs the two characters ending right before index i\n",
    "        # python slices are inclusive of the start index and exclusive of the stop index\n",
    "        # for the following example:\n",
    "            # A s h e n\n",
    "            # 0 1 2 3 4 \n",
    "            # name[1:3] starts at s and ends right before index 3 (exclusive) so it only grabs indices 1 and 2\n",
    "            # name[1:3] = \"sh\"\n",
    "\n",
    "        # in the syllable rule, if name[i-2:i] == \"sh\", then we know that there's an \"sh\" ending right before the vowel at position i\n",
    "\n",
    "        if name[i].lower() in vowels and name[i-1].lower() not in vowels:\n",
    "            return name[i-1:]\n",
    "        \n",
    "    return name #if no syllable is found, returns the whole name\n",
    "        \n",
    "\"\"\"\n",
    "    Main functions to generate the couple name after retrieving the first and last syllables with the helper functions\n",
    "\"\"\"\n",
    "\n",
    "def name_generator(person1: str, person2: str) -> str:\n",
    "    first1 = identify_first_syllable(person1)\n",
    "    first2 = identify_first_syllable(person2)\n",
    "    last1 = identify_last_syllable(person1)\n",
    "    last2 = identify_last_syllable(person2)\n",
    "\n",
    "    option1 = first1 + last2\n",
    "    option2 = first2 + last1\n",
    "\n",
    "    # this will check if a boring name is produced \n",
    "\n",
    "    if option1 == person1 or option1 == person2 or option2 == person1 or option2 == person2:\n",
    "        couple_name = first1 + first2\n",
    "    else:\n",
    "        couple_name = option1\n",
    "\n",
    "    #### Put your work above this line \n",
    "    return couple_name"
   ]
  },
  {
   "cell_type": "code",
   "execution_count": null,
   "metadata": {},
   "outputs": [
    {
     "name": "stdout",
     "output_type": "stream",
     "text": [
      "Mosy\n",
      "Elin\n",
      "Satin\n",
      "Shehan\n",
      "AaSha\n",
      "Joshsh\n",
      "AshRon\n"
     ]
    }
   ],
   "source": [
    "def identify_first_syllable(name: str) -> str: #this is a helper function to identify the first syllable\n",
    "    vowels = \"aeiouyAEIOUY\"\n",
    "    for i in range(len(name) - 1):\n",
    "        if name[i].lower() in vowels and name[i+1:i+3].lower() == \"sh\": #this accommodates the \"sh\" rule\n",
    "            return name[:i+3] \n",
    "        if name[i].lower() in vowels and name[i+1].lower() not in vowels: #this accommdates the vowel followed by consonant rule\n",
    "            return name[:i+1]   \n",
    "    return name\n",
    "\n",
    "def identify_last_syllable(name: str) -> str: #this is a helper function to identify the last syllable\n",
    "    vowels = \"aeiouyAEIOUY\"\n",
    "\n",
    "    #special-case I caught with names ending in \"sh\" \n",
    "    if name.lower().endswith(\"sh\"):\n",
    "        return name[-2:]\n",
    "\n",
    "    for i in range(len(name) - 1, 0, -1): \n",
    "        if name[i-2:i].lower() == \"sh\" and name[i].lower() in vowels: #this accommodates the \"sh\" rule\n",
    "            return name[i-2:]\n",
    "        if name[i].lower() in vowels and name[i-1].lower() not in vowels: #this accommdates the vowel followed by consonant rule\n",
    "            return name[i-1:]\n",
    "    return name\n",
    "        \n",
    "def name_generator(person1: str, person2: str) -> str: #this is the main function to generate the couple name\n",
    "    first1 = identify_first_syllable(person1)\n",
    "    first2 = identify_first_syllable(person2)\n",
    "    last1 = identify_last_syllable(person1)\n",
    "    last2 = identify_last_syllable(person2)\n",
    "\n",
    "    option1 = first1 + last2\n",
    "    option2 = first2 + last1\n",
    "\n",
    "    if option1 == person1 or option1 == person2 or option2 == person1 or option2 == person2: # this will check if a boring name is produced \n",
    "        couple_name = first1 + first2\n",
    "    else:\n",
    "        couple_name = option1\n",
    "    return couple_name\n",
    "\n",
    "print(name_generator(\"Mobi\", \"Betsy\")) #I expect \"Mosy\"\n",
    "print(name_generator(\"Ellie\", \"Kollin\")) #I expect \"Elin\"\n",
    "print(name_generator(\"Sam\", \"Justin\")) #I expect \"Satin\"\n",
    "print(name_generator(\"Shelly\", \"Yonathan\")) #I expect \"Shehan\"\n",
    "print(name_generator(\"Aaron\", \"Sharon\")) #Should avoid \"Aaron\" or \"Sharon\"\n",
    "print(name_generator(\"Josh\", \"Nash\")) #Tests the \"sh\" rule in last syllable \n",
    "print(name_generator(\"Ashley\", \"Ron\")) #Tests the \"sh\" rule in the first syllable"
   ]
  }
 ],
 "metadata": {
  "kernelspec": {
   "display_name": "intropython",
   "language": "python",
   "name": "python3"
  },
  "language_info": {
   "codemirror_mode": {
    "name": "ipython",
    "version": 3
   },
   "file_extension": ".py",
   "mimetype": "text/x-python",
   "name": "python",
   "nbconvert_exporter": "python",
   "pygments_lexer": "ipython3",
   "version": "3.13.5"
  }
 },
 "nbformat": 4,
 "nbformat_minor": 2
}
